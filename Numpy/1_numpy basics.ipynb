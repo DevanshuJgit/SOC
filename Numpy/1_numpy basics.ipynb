{
 "cells": [
  {
   "cell_type": "code",
   "execution_count": 1,
   "id": "e7f48825-79ee-4643-85b2-929d6e32f000",
   "metadata": {},
   "outputs": [],
   "source": [
    "import numpy as np"
   ]
  },
  {
   "cell_type": "code",
   "execution_count": 2,
   "id": "95f76112-ab14-4f34-b9d9-ec88d0535986",
   "metadata": {},
   "outputs": [],
   "source": [
    "myarr_1D = np.array([3,6,32,7])"
   ]
  },
  {
   "cell_type": "code",
   "execution_count": 3,
   "id": "4a16e518-a478-4834-9eaa-0290f63f0623",
   "metadata": {},
   "outputs": [
    {
     "name": "stdout",
     "output_type": "stream",
     "text": [
      "1D array: [ 3  6 32  7]\n"
     ]
    }
   ],
   "source": [
    "print(\"1D array:\", myarr_1D)"
   ]
  },
  {
   "cell_type": "code",
   "execution_count": 4,
   "id": "245480b6-92fa-47e2-9c51-919332481239",
   "metadata": {},
   "outputs": [],
   "source": [
    "myarr_2D = np.array([[1,2,3],[4,5,6]])"
   ]
  },
  {
   "cell_type": "code",
   "execution_count": 6,
   "id": "4d504d60-5673-49ea-aefe-43b693fe9906",
   "metadata": {},
   "outputs": [
    {
     "name": "stdout",
     "output_type": "stream",
     "text": [
      "2D array: [[1 2 3]\n",
      " [4 5 6]]\n"
     ]
    }
   ],
   "source": [
    "print(\"2D array:\", myarr_2D)"
   ]
  },
  {
   "cell_type": "markdown",
   "id": "0a379361-ab48-422e-b45e-714107496de0",
   "metadata": {},
   "source": [
    "## diffrence between array and lists"
   ]
  },
  {
   "cell_type": "code",
   "execution_count": 7,
   "id": "d859a16e-f66f-4a8b-a669-f3f2534642a3",
   "metadata": {},
   "outputs": [],
   "source": [
    "l1 = [1,2,3]\n",
    "arr1 = np.array([1,2,3])"
   ]
  },
  {
   "cell_type": "code",
   "execution_count": 8,
   "id": "7e37e5b6-9579-4de9-85fc-4971c30fff45",
   "metadata": {},
   "outputs": [
    {
     "name": "stdout",
     "output_type": "stream",
     "text": [
      "list multiplication: [1, 2, 3, 1, 2, 3]\n",
      "array multiplication: [2 4 6]\n"
     ]
    }
   ],
   "source": [
    "print(\"list multiplication:\", l1*2)\n",
    "print(\"array multiplication:\", arr1*2)"
   ]
  },
  {
   "cell_type": "markdown",
   "id": "f0c49fc0-fe88-4495-a233-ad8374e70401",
   "metadata": {},
   "source": [
    "## Types of arrays"
   ]
  },
  {
   "cell_type": "code",
   "execution_count": 9,
   "id": "1e8e003e-6d30-4ce8-8f85-f4e87d0e85ea",
   "metadata": {},
   "outputs": [
    {
     "name": "stdout",
     "output_type": "stream",
     "text": [
      "[[0. 0. 0. 0.]\n",
      " [0. 0. 0. 0.]\n",
      " [0. 0. 0. 0.]]\n"
     ]
    }
   ],
   "source": [
    "zeros = np.zeros((3,4))\n",
    "print(zeros)"
   ]
  },
  {
   "cell_type": "code",
   "execution_count": 10,
   "id": "edd72031-7a01-45bd-9be8-19e9fa5b4557",
   "metadata": {},
   "outputs": [
    {
     "name": "stdout",
     "output_type": "stream",
     "text": [
      "[[1. 1. 1. 1.]\n",
      " [1. 1. 1. 1.]\n",
      " [1. 1. 1. 1.]]\n"
     ]
    }
   ],
   "source": [
    "ones = np.ones((3,4))\n",
    "print(ones)"
   ]
  },
  {
   "cell_type": "code",
   "execution_count": 11,
   "id": "e70435d6-7d49-4c71-aec4-7f9f02be6d45",
   "metadata": {},
   "outputs": [
    {
     "name": "stdout",
     "output_type": "stream",
     "text": [
      "[[7 7 7]\n",
      " [7 7 7]]\n"
     ]
    }
   ],
   "source": [
    "scalar_matrix = np.full((2,3),7)\n",
    "print(scalar_matrix)"
   ]
  },
  {
   "cell_type": "code",
   "execution_count": 12,
   "id": "73d0a99a-b6bb-4969-8fd9-540630e4a03d",
   "metadata": {},
   "outputs": [
    {
     "name": "stdout",
     "output_type": "stream",
     "text": [
      "[[0.40074793 0.25970045 0.92692785]\n",
      " [0.91674207 0.91319847 0.96659992]]\n"
     ]
    }
   ],
   "source": [
    "random = np.random.random((2,3))\n",
    "print(random)"
   ]
  },
  {
   "cell_type": "code",
   "execution_count": 13,
   "id": "f97f301d-e88b-4195-be51-f0c8d1f58ebc",
   "metadata": {},
   "outputs": [
    {
     "name": "stdout",
     "output_type": "stream",
     "text": [
      "[0 2 4 6 8]\n"
     ]
    }
   ],
   "source": [
    "sequence = np.arange(0,10,2)\n",
    "print(sequence)"
   ]
  },
  {
   "cell_type": "markdown",
   "id": "6f40da8d-87fd-43f2-8e3b-c1430dbbcf46",
   "metadata": {},
   "source": [
    "## vector, matrix and tensor"
   ]
  },
  {
   "cell_type": "code",
   "execution_count": 16,
   "id": "73ee8c10-e5f7-4b1d-be55-969430ab8c66",
   "metadata": {},
   "outputs": [
    {
     "name": "stdout",
     "output_type": "stream",
     "text": [
      "vector: [1 2 3]\n",
      "matrix: [[1 2 3]\n",
      " [4 5 6]]\n",
      "tensor: [[[1 2]\n",
      "  [3 4]]\n",
      "\n",
      " [[5 6]\n",
      "  [7 8]]]\n"
     ]
    }
   ],
   "source": [
    "vector = np.array([1,2,3])\n",
    "print(\"vector:\",vector)\n",
    "matrix = np.array([[1,2,3],[4,5,6]])\n",
    "print(\"matrix:\", matrix)\n",
    "tensor = np.array([[[1,2],[3,4]],\n",
    "                   [[5,6],[7,8]]])\n",
    "print(\"tensor:\", tensor)"
   ]
  },
  {
   "cell_type": "markdown",
   "id": "e3573f5c-d553-4e6c-9908-71a99655f323",
   "metadata": {},
   "source": [
    "## array properties"
   ]
  },
  {
   "cell_type": "code",
   "execution_count": 18,
   "id": "500fd7ee-4d87-4b54-957a-bf3ddbf6d629",
   "metadata": {},
   "outputs": [
    {
     "name": "stdout",
     "output_type": "stream",
     "text": [
      "shape: (2, 3)\n",
      "dimension: 2\n",
      "size: 6\n",
      "Dtype: int64\n"
     ]
    }
   ],
   "source": [
    "arr = np.array([[1,2,3],[4,5,6]])\n",
    "print(\"shape:\",arr.shape)\n",
    "print(\"dimension:\", arr.ndim)\n",
    "print(\"size:\", arr.size)\n",
    "print(\"Dtype:\", arr.dtype)"
   ]
  },
  {
   "cell_type": "markdown",
   "id": "34505f3a-3af9-4586-9605-ec00913363bb",
   "metadata": {},
   "source": [
    "## array reshaping"
   ]
  },
  {
   "cell_type": "code",
   "execution_count": 27,
   "id": "bc956bcd-5a8f-473a-945a-f486424573f0",
   "metadata": {},
   "outputs": [
    {
     "name": "stdout",
     "output_type": "stream",
     "text": [
      "original array: [ 0  1  2  3  4  5  6  7  8  9 10 11]\n",
      "reshaped array: [[ 0  1  2  3]\n",
      " [ 4  5  6  7]\n",
      " [ 8  9 10 11]]\n",
      "flattened array: [ 0  1  2  3  4  5  6  7  8  9 10 11]\n",
      "reveled array: [ 0  1  2  3  4  5  6  7  8  9 10 11]\n",
      "transposed array: [[ 0  4  8]\n",
      " [ 1  5  9]\n",
      " [ 2  6 10]\n",
      " [ 3  7 11]]\n"
     ]
    }
   ],
   "source": [
    "arr_1 = np.arange(12)\n",
    "print(\"original array:\" , arr_1)\n",
    "reshaped = arr_1.reshape((3,4))\n",
    "print(\"reshaped array:\" , reshaped)\n",
    "flattened = reshaped.flatten()\n",
    "print(\"flattened array:\" , flattened)\n",
    "#ravel(return view, instead of copy)\n",
    "reveled = reshaped.ravel()\n",
    "print(\"reveled array:\" , reveled)\n",
    "transposed = reshaped.T\n",
    "print(\"transposed array:\" , transposed)"
   ]
  },
  {
   "cell_type": "code",
   "execution_count": null,
   "id": "5ab409a5-e5b4-4d16-9dfa-abc18da98cd3",
   "metadata": {},
   "outputs": [],
   "source": []
  }
 ],
 "metadata": {
  "kernelspec": {
   "display_name": "Python 3 (ipykernel)",
   "language": "python",
   "name": "python3"
  },
  "language_info": {
   "codemirror_mode": {
    "name": "ipython",
    "version": 3
   },
   "file_extension": ".py",
   "mimetype": "text/x-python",
   "name": "python",
   "nbconvert_exporter": "python",
   "pygments_lexer": "ipython3",
   "version": "3.13.3"
  }
 },
 "nbformat": 4,
 "nbformat_minor": 5
}
