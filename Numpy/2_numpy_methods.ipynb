{
 "cells": [
  {
   "cell_type": "markdown",
   "id": "d97014cd-1856-4287-a65a-bdf3738676b8",
   "metadata": {},
   "source": [
    "### numpy array operation"
   ]
  },
  {
   "cell_type": "code",
   "execution_count": 1,
   "id": "83bc61fb-03f9-4ab4-8412-69371a617369",
   "metadata": {},
   "outputs": [],
   "source": [
    "import numpy as np"
   ]
  },
  {
   "cell_type": "code",
   "execution_count": 4,
   "id": "862d8256-72bc-436d-9845-3f1a7ba5508b",
   "metadata": {},
   "outputs": [
    {
     "name": "stdout",
     "output_type": "stream",
     "text": [
      "basic slicing: [3 4 5 6 7]\n",
      "with steps: [2 4 6 8]\n"
     ]
    }
   ],
   "source": [
    "arr = np.array([1,2,3,4,5,6,7,8,9,10])\n",
    "print(\"basic slicing:\", arr[2:7])\n",
    "print(\"with steps:\", arr[1:8:2])"
   ]
  },
  {
   "cell_type": "code",
   "execution_count": 8,
   "id": "308a1287-2f36-486a-848e-10e93641450d",
   "metadata": {},
   "outputs": [
    {
     "name": "stdout",
     "output_type": "stream",
     "text": [
      "specific element: 6\n",
      "entire row: [4 5 6]\n",
      "entire column: [2 5 8]\n"
     ]
    }
   ],
   "source": [
    "arr_2D = np.array([[1,2,3],[4,5,6],[7,8,9]])\n",
    "print(\"specific element:\" , arr_2D[1,2])\n",
    "print(\"entire row:\", arr_2D[1])\n",
    "print(\"entire column:\", arr_2D[:,1])"
   ]
  },
  {
   "cell_type": "markdown",
   "id": "afe5edc2-690b-41e6-8fa2-9f51ebe1ba52",
   "metadata": {},
   "source": [
    "### sorting"
   ]
  },
  {
   "cell_type": "code",
   "execution_count": 13,
   "id": "40eb081a-6e0d-4947-aae5-bd2951e9911d",
   "metadata": {},
   "outputs": [
    {
     "name": "stdout",
     "output_type": "stream",
     "text": [
      "sorted array: [1 1 2 3 4 5 6 9]\n",
      "sorted 2D by column: [[1 1]\n",
      " [2 2]\n",
      " [3 3]]\n",
      "sorted 2D by raw: [[1 3]\n",
      " [1 2]\n",
      " [2 3]]\n"
     ]
    }
   ],
   "source": [
    "unsorted = np.array([3,1,4,1,5,9,2,6])\n",
    "print(\"sorted array:\", np.sort(unsorted))\n",
    "unsorted_2D = np.array([[3,1],[1,2],[2,3]])\n",
    "print(\"sorted 2D by column:\", np.sort(unsorted_2D, axis=0))\n",
    "print(\"sorted 2D by raw:\", np.sort(unsorted_2D, axis=1))"
   ]
  },
  {
   "cell_type": "markdown",
   "id": "2a7af42c-3c35-476b-bdd9-c79ad2242bbd",
   "metadata": {},
   "source": [
    "### array filtering"
   ]
  },
  {
   "cell_type": "code",
   "execution_count": 17,
   "id": "82d66461-ebba-46a2-bfdb-2edd0e1f4bcc",
   "metadata": {},
   "outputs": [
    {
     "name": "stdout",
     "output_type": "stream",
     "text": [
      "even_numbers: [ 2  4  6  8 10]\n"
     ]
    }
   ],
   "source": [
    "num = np.array([1,2,3,4,5,6,7,8,9,10])\n",
    "even_num = num[num%2 == 0]\n",
    "print(\"even_numbers:\", even_num)"
   ]
  },
  {
   "cell_type": "markdown",
   "id": "d8ccd008-32f9-4d76-9a19-9adeec6ddf1d",
   "metadata": {},
   "source": [
    "### Filter with mask"
   ]
  },
  {
   "cell_type": "code",
   "execution_count": 19,
   "id": "3b5afb9d-34c8-4f9f-b242-6dde843a2aad",
   "metadata": {},
   "outputs": [
    {
     "name": "stdout",
     "output_type": "stream",
     "text": [
      "num greater then 5: [ 6  7  8  9 10]\n"
     ]
    }
   ],
   "source": [
    "mask = num>5\n",
    "print(\"num greater then 5:\", num[mask])"
   ]
  },
  {
   "cell_type": "markdown",
   "id": "056402b8-8357-4eff-bbb4-a57ffc5c9282",
   "metadata": {},
   "source": [
    "### fancy indexing vs np.where()"
   ]
  },
  {
   "cell_type": "code",
   "execution_count": 22,
   "id": "48198add-97cf-42a9-a5b1-8457230b9f0d",
   "metadata": {},
   "outputs": [
    {
     "name": "stdout",
     "output_type": "stream",
     "text": [
      "[1 3 5]\n",
      "(array([5, 6, 7, 8, 9]),)\n",
      "where array: [ 6  7  8  9 10]\n"
     ]
    }
   ],
   "source": [
    "indices = [0,2,4]\n",
    "print(num[indices])\n",
    "\n",
    "where_result = np.where(num>5)\n",
    "print(where_result)\n",
    "print(\"where array:\", num[where_result])"
   ]
  },
  {
   "cell_type": "code",
   "execution_count": 26,
   "id": "2066a828-f20a-4575-bf2c-6c9ab54efa69",
   "metadata": {},
   "outputs": [
    {
     "name": "stdout",
     "output_type": "stream",
     "text": [
      "[ 1  2  3  4  5 12 14 16 18 20]\n"
     ]
    }
   ],
   "source": [
    "conditional_array = np.where(num>5,num*2,num)\n",
    "print(conditional_array)"
   ]
  },
  {
   "cell_type": "markdown",
   "id": "9845fc12-a489-4fce-9ef1-5b440c78b676",
   "metadata": {},
   "source": [
    "### adding and removing data"
   ]
  },
  {
   "cell_type": "code",
   "execution_count": 12,
   "id": "723d1158-d55a-4f0c-88b4-5dd2157d2056",
   "metadata": {},
   "outputs": [
    {
     "name": "stdout",
     "output_type": "stream",
     "text": [
      "[1 2 3 4 5 6]\n"
     ]
    }
   ],
   "source": [
    "arr1 = np.array([1,2,3])\n",
    "arr2 = np.array([4,5,6])\n",
    "\n",
    "combined = np.concatenate((arr1,arr2))\n",
    "print(combined)"
   ]
  },
  {
   "cell_type": "markdown",
   "id": "6342591a",
   "metadata": {},
   "source": [
    "### array compatiblity"
   ]
  },
  {
   "cell_type": "code",
   "execution_count": 14,
   "id": "4f4c33f5",
   "metadata": {},
   "outputs": [
    {
     "name": "stdout",
     "output_type": "stream",
     "text": [
      "compatiblity shape: True\n"
     ]
    }
   ],
   "source": [
    "a = np.array([1,2,3])\n",
    "b = np.array([4,5,6])\n",
    "c = np.array([7,8,9])\n",
    "\n",
    "print(\"compatiblity shape:\", a.shape==b.shape)"
   ]
  },
  {
   "cell_type": "code",
   "execution_count": 18,
   "id": "ce6afbbf",
   "metadata": {},
   "outputs": [
    {
     "name": "stdout",
     "output_type": "stream",
     "text": [
      "[[1 2]\n",
      " [3 4]]\n",
      "[[1 2]\n",
      " [3 4]\n",
      " [5 6]]\n",
      "[[1 2 7]\n",
      " [3 4 8]]\n"
     ]
    }
   ],
   "source": [
    "original = np.array([[1,2],[3,4]])\n",
    "new_row = np.array([5,6])\n",
    "w_new_row = np.vstack((original,new_row))\n",
    "print(original)\n",
    "print(w_new_row)\n",
    "\n",
    "new_column = np.array([[7],[8]])\n",
    "w_new_col = np.hstack((original,new_column))\n",
    "print(w_new_col)"
   ]
  },
  {
   "cell_type": "code",
   "execution_count": 21,
   "id": "c7101f85",
   "metadata": {},
   "outputs": [
    {
     "name": "stdout",
     "output_type": "stream",
     "text": [
      "array after deletion: [1 2 4 5]\n"
     ]
    }
   ],
   "source": [
    "arr_3 = np.array([1,2,3,4,5])\n",
    "deleted = np.delete(arr_3,2)\n",
    "print(\"array after deletion:\", deleted)"
   ]
  },
  {
   "cell_type": "code",
   "execution_count": null,
   "id": "72d2d660",
   "metadata": {},
   "outputs": [],
   "source": []
  }
 ],
 "metadata": {
  "kernelspec": {
   "display_name": "Python 3 (ipykernel)",
   "language": "python",
   "name": "python3"
  },
  "language_info": {
   "codemirror_mode": {
    "name": "ipython",
    "version": 3
   },
   "file_extension": ".py",
   "mimetype": "text/x-python",
   "name": "python",
   "nbconvert_exporter": "python",
   "pygments_lexer": "ipython3",
   "version": "3.13.3"
  }
 },
 "nbformat": 4,
 "nbformat_minor": 5
}
